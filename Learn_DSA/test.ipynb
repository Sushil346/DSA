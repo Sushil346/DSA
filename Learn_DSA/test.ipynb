{
 "cells": [
  {
   "cell_type": "code",
   "execution_count": 1,
   "metadata": {},
   "outputs": [],
   "source": [
    "nyc_weather=[]\n",
    "with open(\"Data/nyc_weather.csv\",\"r\") as f:\n",
    "    for line in f:\n",
    "        tokens = line.split(',')\n",
    "        date = tokens[0]\n",
    "        temp = tokens[1]\n",
    "        nyc_weather.append([date, temp])\n",
    "\n"
   ]
  },
  {
   "cell_type": "code",
   "execution_count": 2,
   "metadata": {},
   "outputs": [
    {
     "data": {
      "text/plain": [
       "[['date', 'temperature(F)\\n'],\n",
       " ['Jan 1', '27\\n'],\n",
       " ['Jan 2', '31\\n'],\n",
       " ['Jan 3', '23\\n'],\n",
       " ['Jan 4', '34\\n'],\n",
       " ['Jan 5', '37\\n'],\n",
       " ['Jan 6', '38\\n'],\n",
       " ['Jan 7', '29\\n'],\n",
       " ['Jan 8', '30\\n'],\n",
       " ['Jan 9', '35\\n'],\n",
       " ['Jan 10', '30']]"
      ]
     },
     "execution_count": 2,
     "metadata": {},
     "output_type": "execute_result"
    }
   ],
   "source": [
    "nyc_weather"
   ]
  },
  {
   "cell_type": "code",
   "execution_count": 5,
   "metadata": {},
   "outputs": [
    {
     "data": {
      "text/plain": [
       "31.285714285714285"
      ]
     },
     "execution_count": 5,
     "metadata": {},
     "output_type": "execute_result"
    }
   ],
   "source": [
    "avg_temp_week = sum( float(data[1]) for data in nyc_weather[1:8]) /7\n",
    "avg_temp_week"
   ]
  },
  {
   "cell_type": "code",
   "execution_count": 16,
   "metadata": {},
   "outputs": [
    {
     "data": {
      "text/plain": [
       "38.0"
      ]
     },
     "execution_count": 16,
     "metadata": {},
     "output_type": "execute_result"
    }
   ],
   "source": [
    "temp_list = [float(data[1]) for data in nyc_weather[1:] ]\n",
    "max(temp_list)"
   ]
  },
  {
   "cell_type": "code",
   "execution_count": null,
   "metadata": {},
   "outputs": [],
   "source": [
    "# Using Hashtable for python i.e. Dictionary\n",
    "\n",
    "weather_nyc = {}\n",
    "with open(\"Data/nyc_weather.csv\",\"r\") as wf:\n",
    "    for line in wf:\n",
    "        tokens = line.split(',')\n",
    "        date = tokens[0]\n",
    "        temp = tokens[1]\n",
    "        weather_nyc.append\n",
    "        "
   ]
  },
  {
   "cell_type": "code",
   "execution_count": null,
   "metadata": {},
   "outputs": [],
   "source": []
  }
 ],
 "metadata": {
  "kernelspec": {
   "display_name": "Python 3",
   "language": "python",
   "name": "python3"
  },
  "language_info": {
   "codemirror_mode": {
    "name": "ipython",
    "version": 3
   },
   "file_extension": ".py",
   "mimetype": "text/x-python",
   "name": "python",
   "nbconvert_exporter": "python",
   "pygments_lexer": "ipython3",
   "version": "3.12.1"
  }
 },
 "nbformat": 4,
 "nbformat_minor": 2
}
